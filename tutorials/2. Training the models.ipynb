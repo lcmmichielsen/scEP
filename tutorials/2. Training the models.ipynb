{
 "cells": [
  {
   "cell_type": "markdown",
   "id": "4cd6a09f",
   "metadata": {},
   "source": [
    "# 2. Training the models\n",
    "\n",
    "There are four different types of models:\n",
    "- cell population-specific (multitask model)\n",
    "- cell population-specific HL only (to test the effect of the input features)\n",
    "- cell population-specific seq only (to test the effect of the input features)\n",
    "- tissue-specific (only makes 1 prediction)\n",
    "\n",
    "The tissue specific model can also be used to train a model on 1 specific cell population in case you don't want a multitask model.\n",
    "\n",
    "Python (>= 3.6) and PyTorch (>= 1.9.0) are needed to run the models.\n",
    "\n",
    "### How to run\n",
    "\n",
    "The python code can all be found in the code folder. To train a model, it is easiest to create a bash script that calls the run_*insert_modelname*.py file. There is an example in this folder for training the human subclass models. \n",
    "\n",
    "Several inputs are needed to train a model:\n",
    "- Input to the model: sequence around the TSS & half-life time features. For human and mouse, these can be downloaded from Zenodo.\n",
    "- Output: pseudobulk expression values. For several tissues from the Tabula Muris and for the human motor cortex, these can be downloaded from Zenodo. You can also create your own labels using the first tutorial.\n",
    "\n",
    "The location of these files (and other parameters are optional) should be inputted to the functions:\n",
    "* --dir: Directory with the sequences and half-life time\n",
    "* --train_file: Name of the file with the sequences and half-life time (*.h5 file)\n",
    "* --label_dir: Directory with the pseudobulk expression\n",
    "* --label_file: Filename of the pseudobulk expression (*.csv file)\n",
    "* --cols: Index of the columns to train the model (separated by commas e.g. 0,1,2,3,4), for the multitask models **or** \n",
    "* --col: Index of the column to train the model (default = 0), for the tissue-specific model \n",
    "* --upstream: Number of nucleotides upstream of the transcription start site (default=7000)\n",
    "* --downstream: Number of nucleotides downstream of the transcription start site (default=3500)\n",
    "* --startfold: During the 20fold CV, the first fold to train (if you want to parellize the training) (default=0)\n",
    "* --endfold: During the 20fold CV, the last fold to train (if you want to parellize the training) (default=20)\n",
    "* --numgenes: Number of genes in the dataset. For mouse this is 20467, for mouse this is 18138 (default=20467)\n",
    "* --output: Directory to save the trained models and predictions\n",
    "* --numruns: Number of models to train (default=5)\n",
    "* --numepochs: Number of epochs to train the model (default=40)\n"
   ]
  }
 ],
 "metadata": {
  "kernelspec": {
   "display_name": "Python 3 (ipykernel)",
   "language": "python",
   "name": "python3"
  },
  "language_info": {
   "codemirror_mode": {
    "name": "ipython",
    "version": 3
   },
   "file_extension": ".py",
   "mimetype": "text/x-python",
   "name": "python",
   "nbconvert_exporter": "python",
   "pygments_lexer": "ipython3",
   "version": "3.8.3"
  }
 },
 "nbformat": 4,
 "nbformat_minor": 5
}
