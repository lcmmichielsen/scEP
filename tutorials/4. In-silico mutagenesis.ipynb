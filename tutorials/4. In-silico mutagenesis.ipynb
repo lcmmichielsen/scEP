{
 "cells": [
  {
   "cell_type": "markdown",
   "id": "1954b6e9",
   "metadata": {},
   "source": [
    "# 4. In-silico mutagenesis\n",
    "\n",
    "We will show here how to mutate all positions in-silico to look how variants can affect gene expression. You can either train the models yourself (see previous tutorials) or download the trained models from Zenodo. "
   ]
  },
  {
   "cell_type": "code",
   "execution_count": 1,
   "id": "ced68a27",
   "metadata": {},
   "outputs": [],
   "source": [
    "import os\n",
    "import copy as cp\n",
    "import h5py\n",
    "\n",
    "import numpy as np\n",
    "import pandas as pd\n",
    "import matplotlib\n",
    "from matplotlib import pyplot as plt\n",
    "from matplotlib.collections import PatchCollection\n",
    "from matplotlib.patches import Rectangle\n",
    "import seaborn as sns\n",
    "\n",
    "from scipy.stats import pearsonr\n",
    "from sklearn.preprocessing import StandardScaler\n",
    "from sklearn.model_selection import KFold\n",
    "\n",
    "import torch\n",
    "import torch.nn as nn\n",
    "import torch.optim as optim\n",
    "from torch.utils.data import Dataset\n",
    "from tqdm.notebook import tqdm"
   ]
  },
  {
   "cell_type": "markdown",
   "id": "aa30c84c",
   "metadata": {},
   "source": [
    "### Choose your gene of interest \n",
    "\n",
    "Here, we will reproduce the results from the paper and look at CACNA1I."
   ]
  },
  {
   "cell_type": "code",
   "execution_count": 2,
   "id": "dc03918d",
   "metadata": {},
   "outputs": [],
   "source": [
    "gene = 'CACNA1I'"
   ]
  },
  {
   "cell_type": "markdown",
   "id": "98c49b27",
   "metadata": {},
   "source": [
    "Look which index in the h5 file corresponds to this gene and load that sequence."
   ]
  },
  {
   "cell_type": "code",
   "execution_count": 3,
   "id": "86eae674",
   "metadata": {},
   "outputs": [],
   "source": [
    "fn_seq = '../../Zenodo/human/human_seq_hl.h5'\n",
    "hf = h5py.File(fn_seq, 'r', libver='latest', swmr=True)\n",
    "gn = np.asarray(hf['geneName']).astype('U30')\n",
    "hf.close()"
   ]
  },
  {
   "cell_type": "code",
   "execution_count": 4,
   "id": "13877d26",
   "metadata": {},
   "outputs": [
    {
     "name": "stdout",
     "output_type": "stream",
     "text": [
      "[2211]\n"
     ]
    }
   ],
   "source": [
    "idx = np.where(gn == gene)[0]\n",
    "print(idx)"
   ]
  },
  {
   "cell_type": "code",
   "execution_count": 5,
   "id": "cf03bae2",
   "metadata": {},
   "outputs": [],
   "source": [
    "TSS = 70000\n",
    "upstream = 7000\n",
    "downstream = 3500\n",
    "\n",
    "hf = h5py.File(fn_seq, 'r', libver='latest', swmr=True)\n",
    "sequences = np.asarray(hf['promoter'])[idx,(TSS-upstream):(TSS+downstream),:]\n",
    "hl = np.array(hf['data'])[idx]\n",
    "hf.close()"
   ]
  },
  {
   "cell_type": "markdown",
   "id": "9a58af54",
   "metadata": {},
   "source": [
    "### Initialize the model"
   ]
  },
  {
   "cell_type": "code",
   "execution_count": 6,
   "id": "57a31edc",
   "metadata": {},
   "outputs": [],
   "source": [
    "os.chdir('../code')\n",
    "\n",
    "from scEP_cp import CNN1D, evaluate_mut, load_checkpoint"
   ]
  },
  {
   "cell_type": "code",
   "execution_count": 7,
   "id": "45b51112",
   "metadata": {},
   "outputs": [
    {
     "name": "stdout",
     "output_type": "stream",
     "text": [
      "[*] Selected device:  cuda\n",
      "CNN1D(\n",
      "  (conv): Sequential(\n",
      "    (0): Conv1d(4, 128, kernel_size=(6,), stride=(1,), padding=(2,))\n",
      "    (1): ReLU()\n",
      "    (2): MaxPool1d(kernel_size=30, stride=30, padding=1, dilation=1, ceil_mode=False)\n",
      "    (3): Conv1d(128, 32, kernel_size=(9,), stride=(1,), padding=(4,))\n",
      "    (4): ReLU()\n",
      "    (5): MaxPool1d(kernel_size=10, stride=10, padding=0, dilation=1, ceil_mode=False)\n",
      "    (6): Flatten(start_dim=1, end_dim=-1)\n",
      "  )\n",
      "  (fc): Sequential(\n",
      "    (0): Linear(in_features=1125, out_features=64, bias=True)\n",
      "    (1): ReLU()\n",
      "    (2): Dropout(p=0.00099, inplace=False)\n",
      "    (3): Linear(in_features=64, out_features=20, bias=True)\n",
      "  )\n",
      ")\n"
     ]
    }
   ],
   "source": [
    "device = torch.device('cuda') if torch.cuda.is_available() else torch.device('cpu')\n",
    "print(\"[*] Selected device: \", device)\n",
    "\n",
    "net = CNN1D(num_ct=20).to(device)\n",
    "print(net)"
   ]
  },
  {
   "cell_type": "code",
   "execution_count": 8,
   "id": "b16213f9",
   "metadata": {},
   "outputs": [],
   "source": [
    "os.chdir('../tutorials/')"
   ]
  },
  {
   "cell_type": "markdown",
   "id": "aefe9bbf",
   "metadata": {},
   "source": [
    "### Load true expression values\n",
    "\n",
    "We need this to undo the z-scoring after we made the predictions."
   ]
  },
  {
   "cell_type": "code",
   "execution_count": 9,
   "id": "6d1a6fb5",
   "metadata": {},
   "outputs": [
    {
     "data": {
      "text/html": [
       "<div>\n",
       "<style scoped>\n",
       "    .dataframe tbody tr th:only-of-type {\n",
       "        vertical-align: middle;\n",
       "    }\n",
       "\n",
       "    .dataframe tbody tr th {\n",
       "        vertical-align: top;\n",
       "    }\n",
       "\n",
       "    .dataframe thead th {\n",
       "        text-align: right;\n",
       "    }\n",
       "</style>\n",
       "<table border=\"1\" class=\"dataframe\">\n",
       "  <thead>\n",
       "    <tr style=\"text-align: right;\">\n",
       "      <th></th>\n",
       "      <th>Astro</th>\n",
       "      <th>Endo</th>\n",
       "      <th>L2/3 IT</th>\n",
       "      <th>L5 ET</th>\n",
       "      <th>L5 IT</th>\n",
       "      <th>L5/6 NP</th>\n",
       "      <th>L6 CT</th>\n",
       "      <th>L6 IT</th>\n",
       "      <th>L6 IT Car3</th>\n",
       "      <th>L6b</th>\n",
       "      <th>Lamp5</th>\n",
       "      <th>Micro-PVM</th>\n",
       "      <th>OPC</th>\n",
       "      <th>Oligo</th>\n",
       "      <th>Pvalb</th>\n",
       "      <th>Sncg</th>\n",
       "      <th>Sst</th>\n",
       "      <th>Sst Chodl</th>\n",
       "      <th>VLMC</th>\n",
       "      <th>Vip</th>\n",
       "    </tr>\n",
       "  </thead>\n",
       "  <tbody>\n",
       "    <tr>\n",
       "      <th>WASH7P</th>\n",
       "      <td>-1.305739</td>\n",
       "      <td>-4.0</td>\n",
       "      <td>-0.915789</td>\n",
       "      <td>-0.804866</td>\n",
       "      <td>-0.886611</td>\n",
       "      <td>-0.890142</td>\n",
       "      <td>-0.931289</td>\n",
       "      <td>-0.899425</td>\n",
       "      <td>-0.812872</td>\n",
       "      <td>-0.812913</td>\n",
       "      <td>-1.041932</td>\n",
       "      <td>-4.000000</td>\n",
       "      <td>-1.140033</td>\n",
       "      <td>-1.483413</td>\n",
       "      <td>-0.938450</td>\n",
       "      <td>-1.046027</td>\n",
       "      <td>-1.220408</td>\n",
       "      <td>-0.766559</td>\n",
       "      <td>-4.0</td>\n",
       "      <td>-1.156658</td>\n",
       "    </tr>\n",
       "    <tr>\n",
       "      <th>LOC105379213</th>\n",
       "      <td>-4.000000</td>\n",
       "      <td>-4.0</td>\n",
       "      <td>-1.719671</td>\n",
       "      <td>-1.709472</td>\n",
       "      <td>-1.746770</td>\n",
       "      <td>-1.818924</td>\n",
       "      <td>-1.743273</td>\n",
       "      <td>-1.814571</td>\n",
       "      <td>-1.766845</td>\n",
       "      <td>-1.823213</td>\n",
       "      <td>-1.990441</td>\n",
       "      <td>-4.000000</td>\n",
       "      <td>-4.000000</td>\n",
       "      <td>-2.708975</td>\n",
       "      <td>-1.860694</td>\n",
       "      <td>-2.192155</td>\n",
       "      <td>-2.322475</td>\n",
       "      <td>-4.000000</td>\n",
       "      <td>-4.0</td>\n",
       "      <td>-2.150215</td>\n",
       "    </tr>\n",
       "    <tr>\n",
       "      <th>LOC729737</th>\n",
       "      <td>-4.000000</td>\n",
       "      <td>-4.0</td>\n",
       "      <td>-0.804495</td>\n",
       "      <td>-0.592176</td>\n",
       "      <td>-0.589227</td>\n",
       "      <td>-0.887951</td>\n",
       "      <td>-0.675321</td>\n",
       "      <td>-1.076636</td>\n",
       "      <td>-0.921747</td>\n",
       "      <td>-1.009648</td>\n",
       "      <td>-1.608346</td>\n",
       "      <td>-0.841344</td>\n",
       "      <td>-4.000000</td>\n",
       "      <td>-4.000000</td>\n",
       "      <td>-1.409335</td>\n",
       "      <td>-1.598436</td>\n",
       "      <td>-1.341327</td>\n",
       "      <td>-0.601251</td>\n",
       "      <td>-4.0</td>\n",
       "      <td>-1.739975</td>\n",
       "    </tr>\n",
       "    <tr>\n",
       "      <th>LOC100996442</th>\n",
       "      <td>-4.000000</td>\n",
       "      <td>-4.0</td>\n",
       "      <td>-1.960665</td>\n",
       "      <td>-1.708663</td>\n",
       "      <td>-1.642896</td>\n",
       "      <td>-2.124793</td>\n",
       "      <td>-1.780221</td>\n",
       "      <td>-2.514511</td>\n",
       "      <td>-1.766845</td>\n",
       "      <td>-2.298319</td>\n",
       "      <td>-2.291173</td>\n",
       "      <td>-4.000000</td>\n",
       "      <td>-4.000000</td>\n",
       "      <td>-4.000000</td>\n",
       "      <td>-1.963272</td>\n",
       "      <td>-4.000000</td>\n",
       "      <td>-1.881051</td>\n",
       "      <td>-4.000000</td>\n",
       "      <td>-4.0</td>\n",
       "      <td>-2.450456</td>\n",
       "    </tr>\n",
       "    <tr>\n",
       "      <th>LOC102725121</th>\n",
       "      <td>-4.000000</td>\n",
       "      <td>-4.0</td>\n",
       "      <td>-2.678668</td>\n",
       "      <td>-4.000000</td>\n",
       "      <td>-2.791185</td>\n",
       "      <td>-4.000000</td>\n",
       "      <td>-2.824471</td>\n",
       "      <td>-4.000000</td>\n",
       "      <td>-4.000000</td>\n",
       "      <td>-4.000000</td>\n",
       "      <td>-2.893829</td>\n",
       "      <td>-4.000000</td>\n",
       "      <td>-4.000000</td>\n",
       "      <td>-2.629401</td>\n",
       "      <td>-3.143388</td>\n",
       "      <td>-4.000000</td>\n",
       "      <td>-4.000000</td>\n",
       "      <td>-4.000000</td>\n",
       "      <td>-4.0</td>\n",
       "      <td>-4.000000</td>\n",
       "    </tr>\n",
       "  </tbody>\n",
       "</table>\n",
       "</div>"
      ],
      "text/plain": [
       "                 Astro  Endo   L2/3 IT     L5 ET     L5 IT   L5/6 NP  \\\n",
       "WASH7P       -1.305739  -4.0 -0.915789 -0.804866 -0.886611 -0.890142   \n",
       "LOC105379213 -4.000000  -4.0 -1.719671 -1.709472 -1.746770 -1.818924   \n",
       "LOC729737    -4.000000  -4.0 -0.804495 -0.592176 -0.589227 -0.887951   \n",
       "LOC100996442 -4.000000  -4.0 -1.960665 -1.708663 -1.642896 -2.124793   \n",
       "LOC102725121 -4.000000  -4.0 -2.678668 -4.000000 -2.791185 -4.000000   \n",
       "\n",
       "                 L6 CT     L6 IT  L6 IT Car3       L6b     Lamp5  Micro-PVM  \\\n",
       "WASH7P       -0.931289 -0.899425   -0.812872 -0.812913 -1.041932  -4.000000   \n",
       "LOC105379213 -1.743273 -1.814571   -1.766845 -1.823213 -1.990441  -4.000000   \n",
       "LOC729737    -0.675321 -1.076636   -0.921747 -1.009648 -1.608346  -0.841344   \n",
       "LOC100996442 -1.780221 -2.514511   -1.766845 -2.298319 -2.291173  -4.000000   \n",
       "LOC102725121 -2.824471 -4.000000   -4.000000 -4.000000 -2.893829  -4.000000   \n",
       "\n",
       "                   OPC     Oligo     Pvalb      Sncg       Sst  Sst Chodl  \\\n",
       "WASH7P       -1.140033 -1.483413 -0.938450 -1.046027 -1.220408  -0.766559   \n",
       "LOC105379213 -4.000000 -2.708975 -1.860694 -2.192155 -2.322475  -4.000000   \n",
       "LOC729737    -4.000000 -4.000000 -1.409335 -1.598436 -1.341327  -0.601251   \n",
       "LOC100996442 -4.000000 -4.000000 -1.963272 -4.000000 -1.881051  -4.000000   \n",
       "LOC102725121 -4.000000 -2.629401 -3.143388 -4.000000 -4.000000  -4.000000   \n",
       "\n",
       "              VLMC       Vip  \n",
       "WASH7P        -4.0 -1.156658  \n",
       "LOC105379213  -4.0 -2.150215  \n",
       "LOC729737     -4.0 -1.739975  \n",
       "LOC100996442  -4.0 -2.450456  \n",
       "LOC102725121  -4.0 -4.000000  "
      ]
     },
     "execution_count": 9,
     "metadata": {},
     "output_type": "execute_result"
    }
   ],
   "source": [
    "y_true = pd.read_csv('../../Zenodo/human/M1/subclass/subclass.csv', index_col=0)\n",
    "y_true.iloc[:5]"
   ]
  },
  {
   "cell_type": "code",
   "execution_count": 10,
   "id": "f0260fd2",
   "metadata": {},
   "outputs": [],
   "source": [
    "ct_mapping = y_true.columns"
   ]
  },
  {
   "cell_type": "markdown",
   "id": "9b3f6b64",
   "metadata": {},
   "source": [
    "### In-silico mutagenesis\n",
    "\n",
    "We will use the trained models where our gene of intereset was in the test set, so we first have to find this fold and then we can start mutating the sequence."
   ]
  },
  {
   "cell_type": "code",
   "execution_count": 11,
   "id": "b7db9372",
   "metadata": {},
   "outputs": [
    {
     "name": "stdout",
     "output_type": "stream",
     "text": [
      "0\n",
      "We need fold: 0\n"
     ]
    }
   ],
   "source": [
    "# Keep the random_state to 1 otherwise you get a different \n",
    "# split than during training!\n",
    "numgenes = len(gn)\n",
    "idx_all = np.arange(0, numgenes)\n",
    "kf = KFold(n_splits=20, shuffle=True, random_state=1)\n",
    "fold = 0\n",
    "fold_needed = -1\n",
    "\n",
    "# Find in which test fold this gene is\n",
    "for train_val_idx, idx_test in kf.split(idx_all):\n",
    "    print(fold)\n",
    "    if np.isin(gene, gn[idx_test]):\n",
    "        print('We need fold: ' + str(fold))\n",
    "        fold_needed = fold\n",
    "\n",
    "        np.random.seed(fold)\n",
    "        idx_rest = np.random.permutation(numgenes-len(idx_test))\n",
    "        idx_val = train_val_idx[idx_rest[:1000]]\n",
    "        idx_train = train_val_idx[idx_rest[1000:]]\n",
    "\n",
    "        scaler = StandardScaler()\n",
    "        scaler.fit(y_true.loc[gn[idx_train]])\n",
    "        break\n",
    "    fold += 1\n"
   ]
  },
  {
   "cell_type": "code",
   "execution_count": 12,
   "id": "1baf39cb",
   "metadata": {},
   "outputs": [
    {
     "name": "stdout",
     "output_type": "stream",
     "text": [
      "\n",
      "[*] Loaded checkpoint at epoch 16\n"
     ]
    },
    {
     "data": {
      "application/vnd.jupyter.widget-view+json": {
       "model_id": "86ea34db8e59429aa43ae04ddd776e87",
       "version_major": 2,
       "version_minor": 0
      },
      "text/plain": [
       "  0%|          | 0/10500 [00:00<?, ?it/s]"
      ]
     },
     "metadata": {},
     "output_type": "display_data"
    },
    {
     "name": "stdout",
     "output_type": "stream",
     "text": [
      "\n",
      "[*] Loaded checkpoint at epoch 20\n"
     ]
    },
    {
     "data": {
      "application/vnd.jupyter.widget-view+json": {
       "model_id": "b347d94e7dcf4f2980efce9c9751eb05",
       "version_major": 2,
       "version_minor": 0
      },
      "text/plain": [
       "  0%|          | 0/10500 [00:00<?, ?it/s]"
      ]
     },
     "metadata": {},
     "output_type": "display_data"
    },
    {
     "name": "stdout",
     "output_type": "stream",
     "text": [
      "\n",
      "[*] Loaded checkpoint at epoch 26\n"
     ]
    },
    {
     "data": {
      "application/vnd.jupyter.widget-view+json": {
       "model_id": "0eb6396a8b5445b1b7838de00698ee9e",
       "version_major": 2,
       "version_minor": 0
      },
      "text/plain": [
       "  0%|          | 0/10500 [00:00<?, ?it/s]"
      ]
     },
     "metadata": {},
     "output_type": "display_data"
    },
    {
     "name": "stdout",
     "output_type": "stream",
     "text": [
      "\n",
      "[*] Loaded checkpoint at epoch 18\n"
     ]
    },
    {
     "data": {
      "application/vnd.jupyter.widget-view+json": {
       "model_id": "2266fd0edc1247989236938d2fa3c265",
       "version_major": 2,
       "version_minor": 0
      },
      "text/plain": [
       "  0%|          | 0/10500 [00:00<?, ?it/s]"
      ]
     },
     "metadata": {},
     "output_type": "display_data"
    },
    {
     "name": "stdout",
     "output_type": "stream",
     "text": [
      "\n",
      "[*] Loaded checkpoint at epoch 20\n"
     ]
    },
    {
     "data": {
      "application/vnd.jupyter.widget-view+json": {
       "model_id": "5d5c4dcc3bc94d2fba704a0a5052851a",
       "version_major": 2,
       "version_minor": 0
      },
      "text/plain": [
       "  0%|          | 0/10500 [00:00<?, ?it/s]"
      ]
     },
     "metadata": {},
     "output_type": "display_data"
    }
   ],
   "source": [
    "os.chdir('../../Zenodo/human/M1/subclass/')\n",
    "\n",
    "alphabet = 'ACTG'\n",
    "ohdict = dict((i, c) for i, c in enumerate(alphabet))\n",
    "\n",
    "# Predicted effect: Models x positions x cell types x mutations\n",
    "diff_all = np.zeros((5, 10500, 20, 4))\n",
    "\n",
    "# Iterate over the 5 models\n",
    "for m in range(5):\n",
    "\n",
    "    os.chdir('logmean_multitask_' + str(fold_needed) + '/ckpt_dir' + str(m))\n",
    "    \n",
    "    load_checkpoint(net, filename='model_best.pth.tar')\n",
    "    \n",
    "    # Original prediction (without mutation)\n",
    "    y_pred = evaluate_mut(device, net, \n",
    "                          np.reshape(np.transpose(sequences), (1,4,10500)),\n",
    "                          hl)\n",
    "    y_pred_inv = scaler.inverse_transform(y_pred)\n",
    "\n",
    "    seq = np.reshape(cp.deepcopy(sequences), (1,10500,4))\n",
    "    \n",
    "    # Iterate over all positions\n",
    "    for i in tqdm(range(10500)):\n",
    "\n",
    "        diff_posi = np.zeros((20,4))\n",
    "        \n",
    "        # Iterate over the three possible mutations\n",
    "        for j in range(3):\n",
    "            \n",
    "            # Induce mutation\n",
    "            idx_original = np.argmax(seq[:,i])\n",
    "            idx_tochange = (idx_original+j+1) % 4\n",
    "            seq_ = cp.deepcopy(seq)\n",
    "            seq_[0,i,idx_original] = 0\n",
    "            seq_[0,i,idx_tochange] = 1\n",
    "            \n",
    "            # Evaluate mutated sequence\n",
    "            pred_ = evaluate_mut(device, net, \n",
    "                                 np.reshape(np.transpose(seq_), (1,4,10500)),\n",
    "                                 hl)\n",
    "            pred_inv = scaler.inverse_transform(pred_)\n",
    "\n",
    "            # Calculate difference\n",
    "            diff_all[m,i,:,idx_tochange] = pred_inv - y_pred_inv\n",
    "\n",
    "    os.chdir('../../')"
   ]
  },
  {
   "cell_type": "code",
   "execution_count": 13,
   "id": "81dff4cd",
   "metadata": {},
   "outputs": [],
   "source": [
    "diff_mean = np.mean(diff_all, axis=0)"
   ]
  },
  {
   "cell_type": "markdown",
   "id": "b709ee78",
   "metadata": {},
   "source": [
    "### Look at the results\n",
    "\n",
    "E.g. you can plot the mutation profile"
   ]
  },
  {
   "cell_type": "code",
   "execution_count": 14,
   "id": "d5ef8247",
   "metadata": {},
   "outputs": [],
   "source": [
    "ct = 'Sst Chodl'\n",
    "idx_ct = np.where(ct_mapping == ct)[0]\n",
    "\n",
    "ct_effect = np.squeeze(diff_mean[:,idx_ct])\n",
    "ct_max = np.max(ct_effect, axis=1)\n",
    "ct_min = np.min(ct_effect, axis=1)"
   ]
  },
  {
   "cell_type": "code",
   "execution_count": 15,
   "id": "d2ad6c4e",
   "metadata": {},
   "outputs": [
    {
     "data": {
      "image/png": "[encoded data removed]",
      "text/plain": [
       "<Figure size 720x90 with 1 Axes>"
      ]
     },
     "metadata": {
      "needs_background": "light"
     },
     "output_type": "display_data"
    }
   ],
   "source": [
    "offset = 39563753 #Position on the chromosome of first input base\n",
    "\n",
    "fig = plt.figure(figsize=(10, 1.25))  \n",
    "ax = plt.subplot()\n",
    "\n",
    "# Plot minimum and maximum effect\n",
    "plt.plot(np.linspace(0, 10499, num=10500)+offset, ct_max, rasterized=True, color=sns.color_palette('colorblind')[0])\n",
    "plt.plot(np.linspace(0, 10499, num=10500)+offset, ct_min, rasterized=True, color=sns.color_palette('colorblind')[1])\n",
    "\n",
    "# Add the candidate cis-regulatory elements (downloaded from SCREEN v3)\n",
    "facecolor=sns.color_palette('colorblind')[7]\n",
    "edgecolor='none'\n",
    "alpha=0.5\n",
    "\n",
    "#EH38E3482229\n",
    "#EH38E3482230\n",
    "#EH38E3482231\n",
    "#EH38E3482232\n",
    "#EH38E2164864\n",
    "elements = [[39567387, 39567737],\n",
    "            [39568602, 39568948],\n",
    "            [39569441, 39569761],\n",
    "            [39569835, 39570117],\n",
    "            [39570245, 39570564]]\n",
    "\n",
    "rec = [Rectangle((x1, -0.135), x2-x1, 0.025) for x1, x2 in elements]\n",
    "\n",
    "pc = PatchCollection(rec, facecolor=facecolor, alpha=alpha,\n",
    "                         edgecolor=edgecolor)\n",
    "ax.add_collection(pc)\n",
    "\n",
    "plt.ticklabel_format(useOffset=False, style='plain')\n",
    "plt.title(gene)\n",
    "plt.ylabel('Predicted effect')\n",
    "\n",
    "# Location we're going to zoom in on\n",
    "plt.axvline(39570200, color='k', alpha=0.5)\n",
    "plt.axvline(39571500, color='k', alpha=0.5)\n",
    "\n",
    "plt.text(0.01, 0.95, ct,\n",
    "         verticalalignment='top', horizontalalignment='left',\n",
    "         transform=ax.transAxes, fontsize=12)\n",
    "\n",
    "sns.despine()\n",
    "\n",
    "plt.xlim([39563753, 39574253])\n",
    "plt.ylim([-0.15, 0.15])\n",
    "plt.xticks([39564000, 39566000, 39568000, 39570000, 39572000, 39574000], \n",
    "           [39564000, 39566000, 39568000, 39570000, 39572000, 39574000])\n",
    "\n",
    "plt.show()"
   ]
  }
 ],
 "metadata": {
  "kernelspec": {
   "display_name": "Python 3 (ipykernel)",
   "language": "python",
   "name": "python3"
  },
  "language_info": {
   "codemirror_mode": {
    "name": "ipython",
    "version": 3
   },
   "file_extension": ".py",
   "mimetype": "text/x-python",
   "name": "python",
   "nbconvert_exporter": "python",
   "pygments_lexer": "ipython3",
   "version": "3.8.3"
  }
 },
 "nbformat": 4,
 "nbformat_minor": 5
}
